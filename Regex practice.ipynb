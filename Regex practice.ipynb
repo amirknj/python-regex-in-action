{
 "cells": [
  {
   "cell_type": "markdown",
   "id": "dd43f7d9",
   "metadata": {},
   "source": [
    "# Regular Expressions in action"
   ]
  },
  {
   "cell_type": "markdown",
   "id": "e5efee8d",
   "metadata": {},
   "source": [
    "Import the 're' library that helps in resolving regular expressions in Python"
   ]
  },
  {
   "cell_type": "code",
   "execution_count": 1,
   "id": "4ac001a7",
   "metadata": {},
   "outputs": [],
   "source": [
    "import re"
   ]
  },
  {
   "cell_type": "markdown",
   "id": "e515a582",
   "metadata": {},
   "source": [
    "Regex have the capability to match simple expressions using ordinary characters as well as complex patterns using special characters.\n",
    "\n",
    "- **Ordinary characters include simple alphabets, numbers and symbols.**\n",
    "\n",
    "Ordinary characters are used to get exact matches e.g. if you wanted to wanted to find the occurences of the term 'Python' in some text then your regex would be -->'*Python*'.\n",
    "\n",
    "- **Special characters allow you to create generic pattern in text that are more like a 'Closest match'.**\n",
    "\n",
    "For example if you want to match an email address then you cannot specify an exact match since people have a different emails. However there is a pattern that you can use to your benefit. proper emails will always have an '**@**' symbol in the middle and end with '**.com**'. Let's see how we can find this pattern.\n"
   ]
  },
  {
   "cell_type": "markdown",
   "id": "d0a9cbed",
   "metadata": {},
   "source": [
    "Generate some random text"
   ]
  },
  {
   "cell_type": "code",
   "execution_count": 2,
   "id": "b2152dc8",
   "metadata": {},
   "outputs": [],
   "source": [
    "#random text with emails\n",
    "txt ='''We have contacted Mr. Jhon Doe and have confirmed that he will be joining us for the meeting this evening. If you would like to contact him yourself you can call him on +1-415-5552671 or email him at jhon.doe@outlook.com. We also have the contact details of his assistant, you can contact him in case Mr. Doe does not respond. The assistants email id is jack_smith12@outlook.com.'''"
   ]
  },
  {
   "cell_type": "markdown",
   "id": "03ffab4b",
   "metadata": {},
   "source": [
    "To find the provided pattern we use the *re.search()* function."
   ]
  },
  {
   "cell_type": "code",
   "execution_count": 3,
   "id": "fd3c27ce",
   "metadata": {},
   "outputs": [],
   "source": [
    "plain_text = re.search('assistant', txt) #find the word assistant in the above text"
   ]
  },
  {
   "cell_type": "markdown",
   "id": "076543ff",
   "metadata": {},
   "source": [
    "to find the word 'assistant' we simply used it as an expression.\n",
    "\n",
    "the *re.seach()* function returns the first occurence of th eprovided expresssion as well as its indexes."
   ]
  },
  {
   "cell_type": "code",
   "execution_count": 4,
   "id": "b091f455",
   "metadata": {},
   "outputs": [
    {
     "data": {
      "text/plain": [
       "<re.Match object; span=(262, 271), match='assistant'>"
      ]
     },
     "execution_count": 4,
     "metadata": {},
     "output_type": "execute_result"
    }
   ],
   "source": [
    "plain_text #print out the result"
   ]
  },
  {
   "cell_type": "code",
   "execution_count": 7,
   "id": "e2bf2573",
   "metadata": {},
   "outputs": [
    {
     "name": "stdout",
     "output_type": "stream",
     "text": [
      "assistant\n"
     ]
    }
   ],
   "source": [
    "print(txt[262:271]) #print just the match"
   ]
  },
  {
   "cell_type": "code",
   "execution_count": 10,
   "id": "e368216e",
   "metadata": {},
   "outputs": [
    {
     "name": "stdout",
     "output_type": "stream",
     "text": [
      "(263, 272)\n"
     ]
    }
   ],
   "source": [
    "print(plain_text.span()) #print indexes where the match was found"
   ]
  },
  {
   "cell_type": "markdown",
   "id": "74400395",
   "metadata": {},
   "source": [
    "Now lets try a more complex pattern and find the email addresses in the text"
   ]
  },
  {
   "cell_type": "code",
   "execution_count": 60,
   "id": "99cca37b",
   "metadata": {},
   "outputs": [],
   "source": [
    "email = re.search(r'\\S+@{1}\\S+(.com){1}',txt) #regex to find an email address"
   ]
  },
  {
   "cell_type": "code",
   "execution_count": 61,
   "id": "fdaac930",
   "metadata": {},
   "outputs": [
    {
     "name": "stdout",
     "output_type": "stream",
     "text": [
      "<re.Match object; span=(201, 221), match='jhon.doe@outlook.com'>\n"
     ]
    }
   ],
   "source": [
    "print(email) #found the first occuring email"
   ]
  },
  {
   "cell_type": "markdown",
   "id": "91c1928f",
   "metadata": {},
   "source": [
    "let's understand the regex a little bit.\n",
    "\n",
    "- \\S : Finds a non-whitespace character\n",
    "- \\+ : Specifies to find 1 or more non-whitespace occurences\n",
    "- @ : Exact match, specifies to find a '@' symbol.\n",
    "- {1} : specifies to find only 1 '@' symbol.\n",
    "- \\S : Again specifies to find non-whitespace characters.\n",
    "- \\+ : Find atleast 1 non-white space characters.\n",
    "- [.com] : Find exact match for .com\n",
    "- {1} : Find exactly one occurence for '.com'"
   ]
  },
  {
   "cell_type": "markdown",
   "id": "1619d287",
   "metadata": {},
   "source": [
    "### Find all occurences"
   ]
  },
  {
   "cell_type": "markdown",
   "id": "bac37086",
   "metadata": {},
   "source": [
    "if we want to extract all occurences of the provided regex, then we use the *re.findall()* function"
   ]
  },
  {
   "cell_type": "code",
   "execution_count": 8,
   "id": "77065788",
   "metadata": {},
   "outputs": [],
   "source": [
    "emails = re.findall(r'\\S+@{1}\\S+(?:\\.com)', txt) #finding all emails"
   ]
  },
  {
   "cell_type": "code",
   "execution_count": 9,
   "id": "868f7206",
   "metadata": {},
   "outputs": [
    {
     "name": "stdout",
     "output_type": "stream",
     "text": [
      "['jhon.doe@outlook.com', 'jack_smith12@outlook.com']\n"
     ]
    }
   ],
   "source": [
    "print(emails)"
   ]
  },
  {
   "cell_type": "markdown",
   "id": "78ac0549",
   "metadata": {},
   "source": [
    "### Substitue Expression"
   ]
  },
  {
   "cell_type": "markdown",
   "id": "8d347e77",
   "metadata": {},
   "source": [
    "We can substitue the given expression with a string of our own using the *re.sub()* function."
   ]
  },
  {
   "cell_type": "code",
   "execution_count": 12,
   "id": "64273296",
   "metadata": {},
   "outputs": [],
   "source": [
    "substituted_string = re.sub(r'\\S+@{1}\\S+(.com){1}', '-----------', txt) #remove emails from the given text."
   ]
  },
  {
   "cell_type": "code",
   "execution_count": 13,
   "id": "e9b80b8a",
   "metadata": {},
   "outputs": [
    {
     "name": "stdout",
     "output_type": "stream",
     "text": [
      "We have contacted Mr. Jhon Doe and have confirmed that he will be joining us for the meeting this evening. If you would like to contact him yourself you can call him on +1-415-5552671 or email him at -----------. We also have the contact details of his assistant, you can contact him in case Mr. Doe does not respond. The assistants email id is -----------.\n"
     ]
    }
   ],
   "source": [
    "print(substituted_string)"
   ]
  },
  {
   "cell_type": "markdown",
   "id": "71d40432",
   "metadata": {},
   "source": [
    "Job Done!"
   ]
  },
  {
   "cell_type": "markdown",
   "id": "3bae9628",
   "metadata": {},
   "source": [
    "This feature can be used to redact documents. \n",
    "\n",
    "Say we want to remove emails from a text so that no confidentional contact information is exposed.\n",
    "\n",
    "We can simple substitue it with an \\<email\\> tag"
   ]
  },
  {
   "cell_type": "code",
   "execution_count": 14,
   "id": "bd3de469",
   "metadata": {},
   "outputs": [],
   "source": [
    "redacted = re.sub('\\S+@{1}\\S+(.com){1}', '<email>', txt)"
   ]
  },
  {
   "cell_type": "code",
   "execution_count": 15,
   "id": "9cbe4063",
   "metadata": {},
   "outputs": [
    {
     "name": "stdout",
     "output_type": "stream",
     "text": [
      "We have contacted Mr. Jhon Doe and have confirmed that he will be joining us for the meeting this evening. If you would like to contact him yourself you can call him on +1-415-5552671 or email him at <email>. We also have the contact details of his assistant, you can contact him in case Mr. Doe does not respond. The assistants email id is <email>.\n"
     ]
    }
   ],
   "source": [
    "print(redacted)"
   ]
  },
  {
   "cell_type": "markdown",
   "id": "a74b89fb",
   "metadata": {},
   "source": [
    "### Multiple expressions in a single line."
   ]
  },
  {
   "cell_type": "markdown",
   "id": "53998340",
   "metadata": {},
   "source": [
    "Say we want to find email as well as the time mentioned in the meeting. \n",
    "\n",
    "We can specify an OR expression to tell python to match either expression1 or expression2 or both.\n"
   ]
  },
  {
   "cell_type": "code",
   "execution_count": 56,
   "id": "7e8debc7",
   "metadata": {},
   "outputs": [
    {
     "data": {
      "text/plain": [
       "['+1-415-5552671', 'jhon.doe@outlook.com.', 'jack_smith12@outlook.com.']"
      ]
     },
     "execution_count": 56,
     "metadata": {},
     "output_type": "execute_result"
    }
   ],
   "source": [
    "re.findall('\\S+@{1}\\S+[.com]{1}|\\+[0-9]{1}-[0-9]{3}-[0-9]{7}', txt)"
   ]
  },
  {
   "cell_type": "code",
   "execution_count": 57,
   "id": "6a8b563d",
   "metadata": {},
   "outputs": [],
   "source": [
    "redacted = re.sub('\\S+@{1}\\S+[.com]{1}|\\+[0-9]{1}-[0-9]{3}-[0-9]{7}', '<confidential>', txt)"
   ]
  },
  {
   "cell_type": "code",
   "execution_count": 16,
   "id": "c1f8832c",
   "metadata": {},
   "outputs": [
    {
     "name": "stdout",
     "output_type": "stream",
     "text": [
      "We have contacted Mr. Jhon Doe and have confirmed that he will be joining us for the meeting this evening. If you would like to contact him yourself you can call him on +1-415-5552671 or email him at <email>. We also have the contact details of his assistant, you can contact him in case Mr. Doe does not respond. The assistants email id is <email>.\n"
     ]
    }
   ],
   "source": [
    "print(redacted)"
   ]
  },
  {
   "cell_type": "markdown",
   "id": "8a56f91b",
   "metadata": {},
   "source": [
    "### Common regex metacharacters"
   ]
  },
  {
   "cell_type": "markdown",
   "id": "b3c492f3",
   "metadata": {},
   "source": [
    "Square brackets define a list or range of characters to be found:\n",
    "\n",
    "[abc]: matches a, b or c\n",
    "\n",
    "[a-z]: matches any lower case letter\n",
    "\n",
    "[A-Za-z]: matches any letter\n",
    "\n",
    "[A-Za-z0-9]: matches any letter or any digit\n",
    "\n",
    ". : matches any single character\n",
    "\n",
    "* : matches the preceding element zero or more times, e.g. colou*r matches color, colour, colouur, etc.\n",
    "\n",
    "?: matches when the preceding character appears zero or one time, e.g. colou?r matches color and colour\n",
    "\n",
    "+: matches the preceding element one or more times, e.g. .+ matches ., .., ... etc.\n",
    "\n",
    "{N}: matches the preceding character N times\n",
    "\n",
    "{N,}: matches the preceding character N or more times\n",
    "\n",
    "{N,M}: matches the preceding character at least N times, but not more than M times\n",
    "\n",
    "\\ :used to escape the following character when that character is a special character e.g. to find .org you have to use the regular expression \\.org because . is the special character that matches any character\n",
    "\n",
    "^: asserts the position at the start of the line\n",
    "\n",
    "$ :asserts the position at the end of the line\n",
    "\n",
    "|: means or\n",
    "\n",
    "And then there are:\n",
    "\n",
    "\\d :matches any single digit\n",
    "\n",
    "\\w :matches any part of word character and is equivalent to [A-Za-z0-9]\n",
    "\n",
    "\\s :matches any space, tab, or newline\n",
    "\n",
    "\\b :asserts that the pattern must match at a word boundary\n",
    "\n",
    "/i :renders an expression case-insensitive equivalent to [A-Za-z]\n",
    "\n",
    "^ab : must start with ab\n",
    "\n",
    "ed$ : must end with ed\n",
    "\n",
    "ab{2,4}c : b can be 2 3 or 4\n",
    "\n",
    "ab*c : ac,abc,abbc,ab......bc\n",
    "\n",
    "ab+c : at least one b is needed\n",
    "\n",
    "ab?c : abc or ac\n",
    "\n",
    "a.c : a anything c\n",
    "\n",
    "a\\.c : a.c\n",
    "\n",
    "[^abc] : expect of abc\n",
    "\n",
    "[abc]+ : at least one of them\n",
    "\n",
    "\\d\\d or \\d{2} : means 2 digits\n",
    "\n",
    "\\w+ : at least one character\n",
    "\n"
   ]
  },
  {
   "cell_type": "markdown",
   "id": "9c44e2e3",
   "metadata": {},
   "source": [
    " Python’s re.compile() method is used to compile a regular expression pattern provided as a string into a regex pattern object (re.Pattern). Later we can use this pattern object to search for a match inside different target strings using regex methods such as a re.match() or re.search()."
   ]
  },
  {
   "attachments": {
    "python-regex-compile.jpg": {
     "image/jpeg": "[encoded data removed]"
    }
   },
   "cell_type": "markdown",
   "id": "c84bf9f9",
   "metadata": {},
   "source": [
    "![python-regex-compile.jpg](attachment:python-regex-compile.jpg)"
   ]
  },
  {
   "cell_type": "code",
   "execution_count": 17,
   "id": "2d3c29c4",
   "metadata": {},
   "outputs": [],
   "source": [
    "clean = re.compile(\"(?i)([^0-9a-z ])\")"
   ]
  },
  {
   "cell_type": "code",
   "execution_count": 19,
   "id": "033eac31",
   "metadata": {},
   "outputs": [
    {
     "data": {
      "text/plain": [
       "'Salam Khobi# Haha##'"
      ]
     },
     "execution_count": 19,
     "metadata": {},
     "output_type": "execute_result"
    }
   ],
   "source": [
    "text = \"Salam Khobi? Haha.!\"\n",
    "\n",
    "result = clean.sub(\"#\", text)\n",
    "\n",
    "result"
   ]
  },
  {
   "cell_type": "code",
   "execution_count": null,
   "id": "b4ac501e",
   "metadata": {},
   "outputs": [],
   "source": []
  }
 ],
 "metadata": {
  "kernelspec": {
   "display_name": "Python 3 (ipykernel)",
   "language": "python",
   "name": "python3"
  },
  "language_info": {
   "codemirror_mode": {
    "name": "ipython",
    "version": 3
   },
   "file_extension": ".py",
   "mimetype": "text/x-python",
   "name": "python",
   "nbconvert_exporter": "python",
   "pygments_lexer": "ipython3",
   "version": "3.9.13"
  }
 },
 "nbformat": 4,
 "nbformat_minor": 5
}
